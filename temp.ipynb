{
 "cells": [
  {
   "cell_type": "code",
   "execution_count": 93,
   "metadata": {},
   "outputs": [
    {
     "name": "stdout",
     "output_type": "stream",
     "text": [
      "The autoreload extension is already loaded. To reload it, use:\n",
      "  %reload_ext autoreload\n"
     ]
    }
   ],
   "source": [
    "%load_ext autoreload\n",
    "%autoreload 2"
   ]
  },
  {
   "cell_type": "code",
   "execution_count": 96,
   "metadata": {},
   "outputs": [],
   "source": [
    "import tensorflow as tf"
   ]
  },
  {
   "cell_type": "code",
   "execution_count": 108,
   "metadata": {},
   "outputs": [
    {
     "data": {
      "text/plain": [
       "<tf.Tensor: shape=(), dtype=int64, numpy=1>"
      ]
     },
     "execution_count": 108,
     "metadata": {},
     "output_type": "execute_result"
    }
   ],
   "source": [
    "tf.argmax(tf.keras.utils.to_categorical(1,num_classes=3))"
   ]
  },
  {
   "cell_type": "code",
   "execution_count": null,
   "metadata": {},
   "outputs": [],
   "source": []
  },
  {
   "cell_type": "code",
   "execution_count": 51,
   "metadata": {},
   "outputs": [],
   "source": [
    "from dataset.build_siamese_pairs import *\n",
    "path=\"E:\\cache\\SPARK SAMPLE\"\n",
    "valid_extensions=[\"jpg\", \"jpeg\", \"png\", \"bmp\", \"tif\", \"tiff\"]\n",
    "exts_pattern = \"*.*[\"+\"|\".join(valid_extensions)+\"]\"\n",
    "files = list(Path(path).rglob(exts_pattern))\n",
    "classlabels = [f.parent.name for f in files]\n",
    "files=list(map(str, files))\n",
    "assert len(files) == len(classlabels)"
   ]
  },
  {
   "cell_type": "code",
   "execution_count": 52,
   "metadata": {},
   "outputs": [],
   "source": [
    "trainX,trainY=make_random_pairs(files,classlabels,labelsmap=False)"
   ]
  },
  {
   "cell_type": "code",
   "execution_count": 86,
   "metadata": {},
   "outputs": [
    {
     "data": {
      "text/plain": [
       "array(['E:\\\\cache\\\\SPARK SAMPLE\\\\HIGH\\\\H1 .bmp',\n",
       "       'E:\\\\cache\\\\SPARK SAMPLE\\\\HIGH\\\\H35 .bmp', '1'], dtype='<U39')"
      ]
     },
     "execution_count": 86,
     "metadata": {},
     "output_type": "execute_result"
    }
   ],
   "source": []
  },
  {
   "cell_type": "code",
   "execution_count": 61,
   "metadata": {},
   "outputs": [
    {
     "data": {
      "text/plain": [
       "array(['E:\\\\cache\\\\SPARK SAMPLE\\\\HIGH\\\\H1 .bmp',\n",
       "       'E:\\\\cache\\\\SPARK SAMPLE\\\\HIGH\\\\H35 .bmp'], dtype='<U39')"
      ]
     },
     "execution_count": 61,
     "metadata": {},
     "output_type": "execute_result"
    }
   ],
   "source": []
  },
  {
   "cell_type": "code",
   "execution_count": 88,
   "metadata": {},
   "outputs": [],
   "source": [
    "dataset = tf.data.Dataset.from_tensor_slices(np.concatenate((trainX, trainY), axis=1))"
   ]
  },
  {
   "cell_type": "code",
   "execution_count": 92,
   "metadata": {},
   "outputs": [
    {
     "name": "stdout",
     "output_type": "stream",
     "text": [
      "b'E:\\\\cache\\\\SPARK SAMPLE\\\\HIGH\\\\H1 .bmp'\n"
     ]
    }
   ],
   "source": [
    "for ele in dataset.take(1):\n",
    "    print(ele.numpy()[0])\n",
    "    break"
   ]
  },
  {
   "cell_type": "code",
   "execution_count": 106,
   "metadata": {},
   "outputs": [
    {
     "data": {
      "text/plain": [
       "572"
      ]
     },
     "execution_count": 106,
     "metadata": {},
     "output_type": "execute_result"
    }
   ],
   "source": [
    "np.concatenate((trainX, trainY),axis=1).shape[0]"
   ]
  },
  {
   "cell_type": "code",
   "execution_count": null,
   "metadata": {},
   "outputs": [],
   "source": []
  }
 ],
 "metadata": {
  "interpreter": {
   "hash": "c85d2e6596eb929e3ede98ed22ea672b6e07d382dccf5513c8f6e71ce0345014"
  },
  "kernelspec": {
   "display_name": "Python 3.9.7 64-bit ('siamese-networks': conda)",
   "language": "python",
   "name": "python3"
  },
  "language_info": {
   "codemirror_mode": {
    "name": "ipython",
    "version": 3
   },
   "file_extension": ".py",
   "mimetype": "text/x-python",
   "name": "python",
   "nbconvert_exporter": "python",
   "pygments_lexer": "ipython3",
   "version": "3.9.7"
  },
  "orig_nbformat": 4
 },
 "nbformat": 4,
 "nbformat_minor": 2
}
